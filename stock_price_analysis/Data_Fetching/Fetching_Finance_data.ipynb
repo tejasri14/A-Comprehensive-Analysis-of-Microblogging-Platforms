{
 "cells": [
  {
   "cell_type": "markdown",
   "metadata": {
    "scrolled": true
   },
   "source": [
    "# Fetching Finance data from Yahoo Finance \n",
    "\n",
    "This notebook represents the process followed to fetch data from Yahoo finance from each company "
   ]
  },
  {
   "cell_type": "code",
   "execution_count": null,
   "metadata": {},
   "outputs": [],
   "source": [
    "BASE_PATH = 'C:/Users/crisp/Projects/Columbia/SEM_1/BDA/Final_Project'"
   ]
  },
  {
   "cell_type": "markdown",
   "metadata": {},
   "source": [
    "### Importing the required custom modules\n"
   ]
  },
  {
   "cell_type": "code",
   "execution_count": null,
   "metadata": {},
   "outputs": [],
   "source": [
    "import sys\n",
    "sys.path.append(BASE_PATH+'/master_code_lib')\n",
    "from data_fetching import get_finance_data"
   ]
  },
  {
   "cell_type": "markdown",
   "metadata": {},
   "source": [
    "Set a path to store the fetched data i.e. data_path"
   ]
  },
  {
   "cell_type": "markdown",
   "metadata": {},
   "source": [
    "### Fetching Yahoo Finance Data \n",
    "\n",
    "Company name and company ticker is required to be provided. This link can be used to check company ticker:\n",
    "https://finance.yahoo.com/lookup"
   ]
  },
  {
   "cell_type": "code",
   "execution_count": null,
   "metadata": {},
   "outputs": [],
   "source": [
    "finance_data_df = get_finance_data(company_name, company_ticker, data_path)"
   ]
  }
 ],
 "metadata": {
  "kernelspec": {
   "display_name": "Python 3",
   "language": "python",
   "name": "python3"
  },
  "language_info": {
   "codemirror_mode": {
    "name": "ipython",
    "version": 3
   },
   "file_extension": ".py",
   "mimetype": "text/x-python",
   "name": "python",
   "nbconvert_exporter": "python",
   "pygments_lexer": "ipython3",
   "version": "3.8.5"
  }
 },
 "nbformat": 4,
 "nbformat_minor": 5
}
